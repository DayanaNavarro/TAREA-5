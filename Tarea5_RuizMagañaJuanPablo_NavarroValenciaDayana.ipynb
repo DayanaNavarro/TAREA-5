{
 "cells": [
  {
   "cell_type": "markdown",
   "metadata": {},
   "source": [
    "<img style=\"float: left; margin: 30px 15px 15px 15px;\" src=\"https://pngimage.net/wp-content/uploads/2018/06/logo-iteso-png-5.png\" width=\"300\" height=\"500\" /> \n",
    "    \n",
    "    \n",
    "### <font color='navy'> Simulación de procesos financieros. \n",
    "\n",
    "**Nombres:** Dayana Navarro Valencia y Juan Pablo Ruiz Magaña\n",
    "\n",
    "**Fecha:** 8 de marzo del 2021\n",
    "\n",
    "**Expediente** : if721470\n",
    "**Profesor:** Oscar David Jaramillo Zuluaga.\n",
    "\n",
    "## Link de Github:\n",
    "\n",
    "# Tarea 5: Clase 9_GenDistribucionProbabilidad"
   ]
  },
  {
   "cell_type": "markdown",
   "metadata": {},
   "source": [
    "## Enunciado de tarea\n",
    "> Para las siguiente dos funciones, genere muestres aleatorias que distribuyan según la función dada usando el método de la transformada inversa y grafique el histograma de 1000 muestras generadas con el método de la transformada inversa y compárela con el función $f(x)$ **(recuerde que $f(x)$ es la distribución de probabilidad y $F(x)$ es la distribución de probabilidad acumulada)** [ver este enlace para más información](https://es.wikipedia.org/wiki/Funci%C3%B3n_de_distribuci%C3%B3n). Este procedimiento se realiza con el fín de validar que el procedimiento y los resultados son correctos.\n",
    "    \n",
    "> 1. Generación variable aleatoria continua\n",
    ">El tiempo en el cual un movimiento browniano se mantiene sobre su punto máximo en el intervalo [0,1] tiene una distribución\n",
    ">$$F(x)=\\frac{2}{\\pi}\\sin^{-1}(\\sqrt x),\\quad 0\\leq x\\leq 1$$ </font>\n",
    "\n",
    "> 2. Generación variable aleatoria Discreta\n",
    "> La distribución binomial modela el número de éxitos de n ensayos independientes donde hay una probabilidad p de éxito en cada ensayo.\n",
    "> Generar una variable aletoria binomial con parámetros $n=10$ y $p=0.7$. Recordar que $$X\\sim binomial(n,p) \\longrightarrow p_i=P(X=i)=\\frac{n!}{i!(n-i)!}p^i(1-p)^{n-i},\\quad i=0,1,\\cdots,n$$\n",
    "> Por propiedades de la operación factorial la anterior $p_i$ se puede escribir como:\n",
    "> $$p_{i+1}=\\frac{n-i}{i+1}\\frac{p}{1-p} p_i $$\n",
    "\n",
    "> **Nota:** Por notación recuerde que para el caso continuo $f(x)$ es la distribución de probabilidad (PDF), mientras $F(x)$ corresponde a la distribución de probabilidad acumulada (CDF). Para el caso discreto, $P(X=i)$ corresponde a su distribución de probabilidad (PMF) y $ F_{X}(x)=\\operatorname {P} (X\\leq x)=\\sum _{x_{i}\\leq x}\\operatorname {P} (X=x_{i})=\\sum _{x_{i}\\leq x}p(x_{i})$, corresponde a su distribución de probabilidad acumulada (CDF).\n",
    "\n"
   ]
  },
  {
   "cell_type": "markdown",
   "metadata": {},
   "source": [
    "### SOLUCION JUAN PABLO"
   ]
  },
  {
   "cell_type": "code",
   "execution_count": 1,
   "metadata": {},
   "outputs": [],
   "source": [
    "# Código de solución \n",
    "import numpy as np\n",
    "import matplotlib.pyplot as plt\n",
    "import pandas as pd\n",
    "%matplotlib inline"
   ]
  },
  {
   "cell_type": "markdown",
   "metadata": {},
   "source": [
    "## Encontrando la inversa de la función e igualandola a U"
   ]
  },
  {
   "cell_type": "markdown",
   "metadata": {},
   "source": [
    "\n",
    "$\\frac{2}{\\pi}\\sin^{-1}(\\sqrt x)=U$\n",
    "\n",
    "\n",
    "$\\sin^{-1}(\\sqrt x) = \\frac{U\\pi}{2}$\n",
    "\n",
    "\n",
    "$\\sqrt x = \\sin^{-1}\\frac{U\\pi}{2}$\n",
    "\n",
    "\n",
    "$x = (\\sin^{-1}\\frac{U\\pi}{2})^2$"
   ]
  },
  {
   "cell_type": "code",
   "execution_count": 2,
   "metadata": {},
   "outputs": [],
   "source": [
    "# función\n",
    "N = 1000\n",
    "def D_continua(N):\n",
    "    return (np.sin((np.random.random(N)*np.pi)/2))**2"
   ]
  },
  {
   "cell_type": "code",
   "execution_count": 3,
   "metadata": {},
   "outputs": [],
   "source": [
    "x = D_continua(N)"
   ]
  },
  {
   "cell_type": "markdown",
   "metadata": {},
   "source": [
    "## Comprobación calculando la derivada"
   ]
  },
  {
   "cell_type": "markdown",
   "metadata": {},
   "source": [
    "${ F(x) = \\frac{2}{\\pi}\\sin^{-1}(\\sqrt{x})}$\n",
    "\n",
    "\n",
    "${\\frac{dF(x)}{dx} =  \\frac{2}{\\pi}\\sin^{-1}(a)}$\n",
    "\n",
    "\n",
    "\n",
    "Con $ a = \\sqrt{x} $\n",
    "\n",
    "###### Derivando a se obtiene:\n",
    "\n",
    "${\\frac{d}{dx} = \\frac{1}{2\\sqrt{x}}}$\n",
    "\n",
    "###### Recordando la derivada arcoseno:\n",
    "\n",
    "${\\frac{d}{dx} = \\frac{1}{\\sqrt{1-x^2}}}$\n",
    "\n",
    "###### Volviendo a la derivada principal nos queda:\n",
    "${\\frac{dF(x)}{dx} = \\frac{2}{\\pi} \\frac{1}{\\sqrt{1-a^2}} a'}$\n",
    "\n",
    "###### Evaluando el valor de a y a':\n",
    "${\\frac{dF(x)}{dx} = \\frac{2}{\\pi \\sqrt{1-\\sqrt{x}^2}} \\frac{1}{2\\sqrt{x}}}$ \n",
    "\n",
    "###### Simplicando:\n",
    "${\\frac{dF(x)}{dx} = \\frac{1}{\\pi\\sqrt{(1-x)x}}}$\n",
    "\n",
    "${\\frac{dF(x)}{dx} = \\frac{1}{\\pi\\sqrt{-(x-1)x}}}$"
   ]
  },
  {
   "cell_type": "code",
   "execution_count": 4,
   "metadata": {},
   "outputs": [],
   "source": [
    "# función de densidad \n",
    "der = lambda x: 1/(np.pi * np.sqrt(-1*(x-1)*x))\n",
    "x1 = np.arange(0,1,0.001)"
   ]
  },
  {
   "cell_type": "code",
   "execution_count": 5,
   "metadata": {},
   "outputs": [
    {
     "name": "stderr",
     "output_type": "stream",
     "text": [
      "<ipython-input-4-1d1b5323332d>:2: RuntimeWarning: divide by zero encountered in true_divide\n",
      "  der = lambda x: 1/(np.pi * np.sqrt(-1*(x-1)*x))\n"
     ]
    },
    {
     "data": {
      "image/png": "[encoded data removed]",
      "text/plain": [
       "<Figure size 432x288 with 1 Axes>"
      ]
     },
     "metadata": {
      "needs_background": "light"
     },
     "output_type": "display_data"
    }
   ],
   "source": [
    "plt.title('Ejercicio1')\n",
    "plt.plot(x1,der(x1),'-r')\n",
    "plt.hist(x,100,density=True)\n",
    "plt.title('histograma')\n",
    "plt.show()"
   ]
  },
  {
   "cell_type": "markdown",
   "metadata": {},
   "source": [
    "#### Ej 2"
   ]
  },
  {
   "cell_type": "code",
   "execution_count": 6,
   "metadata": {},
   "outputs": [],
   "source": [
    "#parametros\n",
    "n = 10\n",
    "p = 0.7"
   ]
  },
  {
   "cell_type": "code",
   "execution_count": 7,
   "metadata": {},
   "outputs": [],
   "source": [
    "# función para calcular la probabilidad acumulada\n",
    "\n",
    "def bin_acum(n,p):\n",
    "    v = np.zeros(n)\n",
    "    v[0] = (1-p)**n\n",
    "    def llenado(i):\n",
    "        nonlocal v\n",
    "        \n",
    "        v[i+1]=(((n-i)/(i+1))*(p/(1-p)))*v[i]\n",
    "        \n",
    "    \n",
    "    [llenado(i) for i in range(n-1)]\n",
    "    return np.cumsum(v)"
   ]
  },
  {
   "cell_type": "markdown",
   "metadata": {},
   "source": [
    "#### Recordando las funciones vistas en clase."
   ]
  },
  {
   "cell_type": "code",
   "execution_count": 8,
   "metadata": {},
   "outputs": [],
   "source": [
    "def Gen_distr_discreta(p_acum: 'P.Acumulada de la distribución a generar',\n",
    "                       indices: 'valores reales a generar aleatoriamente',\n",
    "                       N: 'cantidad de números aleatorios a generar'):\n",
    "    \n",
    "    U =np.random.rand(N)\n",
    "    # Diccionario de valores aleatorios\n",
    "    rand2reales = {i: idx for i, idx in enumerate(indices)}\n",
    "\n",
    "    # Series de los valores aletorios\n",
    "    y = pd.Series([sum([1 for p in p_acum if p < ui]) for ui in U]).map(rand2reales)\n",
    "\n",
    "    return y"
   ]
  },
  {
   "cell_type": "code",
   "execution_count": 9,
   "metadata": {},
   "outputs": [],
   "source": [
    "def plot_histogram_discrete(distribucion:'señal de varibles aleatorias de un distribución DISCRETA dada',\n",
    "                            label:'label del legend a aparecer en el gráfica',\n",
    "                            densidad:'por defecto regresa el histograma en densidad'=True):\n",
    "    # len(set(distribucion)) cuenta la cantidad de elementos distintos de la variable 'distribucion'\n",
    "    plt.figure(figsize=[10,4])\n",
    "    y, x = np.histogram(distribucion, bins=len(set(distribucion)), density=densidad) \n",
    "    plt.bar(x[1:], y, label=label)\n",
    "    plt.legend()\n",
    "    plt.show()"
   ]
  },
  {
   "cell_type": "code",
   "execution_count": 10,
   "metadata": {},
   "outputs": [
    {
     "data": {
      "text/plain": [
       "array([5.90490000e-06, 1.43685900e-04, 1.59038640e-03, 1.05920784e-02,\n",
       "       4.73489874e-02, 1.50268333e-01, 3.50389282e-01, 6.17217214e-01,\n",
       "       8.50691654e-01, 9.71752475e-01])"
      ]
     },
     "execution_count": 10,
     "metadata": {},
     "output_type": "execute_result"
    }
   ],
   "source": [
    "p_acum = bin_acum(n,p)\n",
    "p_acum"
   ]
  },
  {
   "cell_type": "code",
   "execution_count": 11,
   "metadata": {},
   "outputs": [],
   "source": [
    "t_binom = Gen_distr_discreta(p_acum,np.arange(0, n+1),N)"
   ]
  },
  {
   "cell_type": "code",
   "execution_count": 12,
   "metadata": {},
   "outputs": [
    {
     "data": {
      "image/png": "[encoded data removed]",
      "text/plain": [
       "<Figure size 720x288 with 1 Axes>"
      ]
     },
     "metadata": {
      "needs_background": "light"
     },
     "output_type": "display_data"
    }
   ],
   "source": [
    "plot_histogram_discrete(t_binom,'Histograma')"
   ]
  },
  {
   "cell_type": "code",
   "execution_count": null,
   "metadata": {},
   "outputs": [],
   "source": []
  },
  {
   "cell_type": "markdown",
   "metadata": {},
   "source": [
    "### SOLUCION DAYANA"
   ]
  },
  {
   "cell_type": "code",
   "execution_count": 1,
   "metadata": {},
   "outputs": [],
   "source": [
    "# Código de solución \n",
    "import matplotlib.pyplot as plt\n",
    "import numpy as np\n",
    "import scipy.stats as st     # Librería estadística\n",
    "from math import factorial as fac # Importo la operación factorial\n",
    "from scipy.special import comb # Importamos la función combinatoria\n",
    "from scipy import stats\n",
    "import pandas as pd\n",
    "\n",
    "%matplotlib inline"
   ]
  },
  {
   "cell_type": "code",
   "execution_count": 5,
   "metadata": {},
   "outputs": [
    {
     "data": {
      "image/png": "[encoded data removed]",
      "text/plain": [
       "<Figure size 432x288 with 1 Axes>"
      ]
     },
     "metadata": {
      "needs_background": "light"
     },
     "output_type": "display_data"
    }
   ],
   "source": [
    "\n",
    "#EJERCICIO 1\n",
    "\n",
    "N = 1000\n",
    "x= (np.sin((np.pi/2)*(np.random.random(N))))**2\n",
    "a= np.arange(0.01,1,0.01)\n",
    "fx = 1/((np.pi*np.sqrt(a))*(np.sqrt(1-a)))\n",
    "plt.hist(x,density=True, label ='Funcion F(x)')\n",
    "plt.plot(a, fx, label = 'Función f(x)')\n",
    "plt.legend()\n",
    "plt.title('Ejercicio 1')\n",
    "plt.xlabel('valores')\n",
    "plt.ylabel('Probabilidad')\n",
    "plt.show()\n"
   ]
  },
  {
   "cell_type": "code",
   "execution_count": 6,
   "metadata": {},
   "outputs": [],
   "source": [
    "# EJERCICO 2\n",
    "\n",
    "# Sacado de la clase 10\n",
    "\n",
    "\n",
    "\n",
    "\n",
    "\n",
    "\n",
    "def Gen_distr_discreta(p_acum: 'P.Acumulada de la distribución a generar',\n",
    "                       indices: 'valores reales a generar aleatoriamente',\n",
    "                       N: 'cantidad de números aleatorios a generar'):\n",
    "    \n",
    "    U =np.random.rand(N)\n",
    "    # Diccionario de valores aleatorios\n",
    "    rand2reales = {i: idx for i, idx in enumerate(indices)}\n",
    "\n",
    "    # Series de los valores aletorios\n",
    "    y = pd.Series([sum([1 for p in p_acum if p < ui]) for ui in U]).map(rand2reales)\n",
    "\n",
    "    return y"
   ]
  },
  {
   "cell_type": "code",
   "execution_count": 7,
   "metadata": {},
   "outputs": [],
   "source": [
    "def plot_histogram_discrete(distribucion:'señal de varibles aleatorias de un distribución DISCRETA dada',\n",
    "                            label:'label del legend a aparecer en el gráfica',\n",
    "                            densidad:'por defecto regresa el histograma en densidad'=True):\n",
    "    # len(set(distribucion)) cuenta la cantidad de elementos distintos de la variable 'distribucion'\n",
    "    plt.figure(figsize=[10,4])\n",
    "    y, x = np.histogram(distribucion, bins=len(set(distribucion)), density=densidad) \n",
    "    plt.bar(x[1:], y, label=label)\n",
    "    plt.legend()\n",
    "    plt.show()"
   ]
  },
  {
   "cell_type": "code",
   "execution_count": 8,
   "metadata": {},
   "outputs": [],
   "source": [
    "# Función que calcula la probabilidad acumulada optimizada\n",
    "def P_acum_Binomial_o(n,p):\n",
    "    Pr = np.zeros(n)\n",
    "    Pr[0] = (1-p)**n\n",
    "    def pr(i):\n",
    "        nonlocal Pr\n",
    "        c  = p/(1-p)\n",
    "        Pr[i+1]=(c*(n-i)/(i+1))*Pr[i]\n",
    "        \n",
    "    # Lleno el vector Pr usando compresión de listas\n",
    "    [pr(i) for i in range(n-1)]\n",
    "    return np.cumsum(Pr)"
   ]
  },
  {
   "cell_type": "code",
   "execution_count": 9,
   "metadata": {},
   "outputs": [
    {
     "data": {
      "image/png": "[encoded data removed]",
      "text/plain": [
       "<Figure size 720x288 with 1 Axes>"
      ]
     },
     "metadata": {
      "needs_background": "light"
     },
     "output_type": "display_data"
    }
   ],
   "source": [
    "n = 10; p = 0.7; N=10*4\n",
    "\n",
    "p_acum = P_acum_Binomial_o(n,p)\n",
    "\n",
    "# Usando el método de la transformada inversa\n",
    "d_binomial = Gen_distr_discreta(p_acum , np.arange(0, n+1), N)\n",
    "plot_histogram_discrete(d_binomial, 'función creada con transformada inversa')"
   ]
  }
 ],
 "metadata": {
  "kernelspec": {
   "display_name": "Python 3",
   "language": "python",
   "name": "python3"
  },
  "language_info": {
   "codemirror_mode": {
    "name": "ipython",
    "version": 3
   },
   "file_extension": ".py",
   "mimetype": "text/x-python",
   "name": "python",
   "nbconvert_exporter": "python",
   "pygments_lexer": "ipython3",
   "version": "3.8.5"
  }
 },
 "nbformat": 4,
 "nbformat_minor": 2
}
